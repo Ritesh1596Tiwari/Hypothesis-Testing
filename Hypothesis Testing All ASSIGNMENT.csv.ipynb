{
 "cells": [
  {
   "cell_type": "markdown",
   "id": "22136e0a",
   "metadata": {
    "ExecuteTime": {
     "end_time": "2023-03-17T15:03:23.750076Z",
     "start_time": "2023-03-17T15:03:23.739209Z"
    }
   },
   "source": [
    "#Question\n",
    "\n",
    "\n",
    "A F&B manager wants to determine whether there is any significant difference \n",
    "in the diameter of the cutlet between two units. A randomly selected sample of cutlets\n",
    "was collected from both units and measured? Analyze the data and draw \n",
    "inferences at 5% significance level. \n",
    "Please state the assumptions and tests that you carried out to check \n",
    "validity of the assumptions.\n",
    "\n",
    "Minitab File : Cutlets.mtw\n",
    "\n",
    "Null Hypothesis = UnitA = UnitB\n",
    "\n",
    "Alternate Hypothesis = UnitA (not equal to) UnitB"
   ]
  },
  {
   "cell_type": "code",
   "execution_count": 11,
   "id": "392c0a1e",
   "metadata": {
    "ExecuteTime": {
     "end_time": "2023-03-18T09:23:17.802722Z",
     "start_time": "2023-03-18T09:23:17.793542Z"
    }
   },
   "outputs": [],
   "source": [
    "import pandas as pd\n",
    "import numpy as np\n",
    "import warnings\n",
    "from scipy import stats \n",
    "import statsmodels.api as sm\n",
    "import matplotlib.pyplot as plt\n",
    "%matplotlib inline\n",
    "\n",
    "warnings.filterwarnings('ignore')"
   ]
  },
  {
   "cell_type": "code",
   "execution_count": 12,
   "id": "15ffa08d",
   "metadata": {
    "ExecuteTime": {
     "end_time": "2023-03-18T09:23:18.351343Z",
     "start_time": "2023-03-18T09:23:18.338472Z"
    }
   },
   "outputs": [
    {
     "data": {
      "text/html": [
       "<div>\n",
       "<style scoped>\n",
       "    .dataframe tbody tr th:only-of-type {\n",
       "        vertical-align: middle;\n",
       "    }\n",
       "\n",
       "    .dataframe tbody tr th {\n",
       "        vertical-align: top;\n",
       "    }\n",
       "\n",
       "    .dataframe thead th {\n",
       "        text-align: right;\n",
       "    }\n",
       "</style>\n",
       "<table border=\"1\" class=\"dataframe\">\n",
       "  <thead>\n",
       "    <tr style=\"text-align: right;\">\n",
       "      <th></th>\n",
       "      <th>Unit A</th>\n",
       "      <th>Unit B</th>\n",
       "    </tr>\n",
       "  </thead>\n",
       "  <tbody>\n",
       "    <tr>\n",
       "      <th>0</th>\n",
       "      <td>6.8090</td>\n",
       "      <td>6.7703</td>\n",
       "    </tr>\n",
       "    <tr>\n",
       "      <th>1</th>\n",
       "      <td>6.4376</td>\n",
       "      <td>7.5093</td>\n",
       "    </tr>\n",
       "    <tr>\n",
       "      <th>2</th>\n",
       "      <td>6.9157</td>\n",
       "      <td>6.7300</td>\n",
       "    </tr>\n",
       "    <tr>\n",
       "      <th>3</th>\n",
       "      <td>7.3012</td>\n",
       "      <td>6.7878</td>\n",
       "    </tr>\n",
       "    <tr>\n",
       "      <th>4</th>\n",
       "      <td>7.4488</td>\n",
       "      <td>7.1522</td>\n",
       "    </tr>\n",
       "  </tbody>\n",
       "</table>\n",
       "</div>"
      ],
      "text/plain": [
       "   Unit A  Unit B\n",
       "0  6.8090  6.7703\n",
       "1  6.4376  7.5093\n",
       "2  6.9157  6.7300\n",
       "3  7.3012  6.7878\n",
       "4  7.4488  7.1522"
      ]
     },
     "execution_count": 12,
     "metadata": {},
     "output_type": "execute_result"
    }
   ],
   "source": [
    "df = pd.read_csv('Cutlets.csv')\n",
    "df.head()"
   ]
  },
  {
   "cell_type": "code",
   "execution_count": 13,
   "id": "14486eda",
   "metadata": {
    "ExecuteTime": {
     "end_time": "2023-03-18T09:23:18.614624Z",
     "start_time": "2023-03-18T09:23:18.606501Z"
    }
   },
   "outputs": [],
   "source": [
    "df = df[['Unit A', 'Unit B']]"
   ]
  },
  {
   "cell_type": "code",
   "execution_count": 14,
   "id": "4f605cea",
   "metadata": {
    "ExecuteTime": {
     "end_time": "2023-03-18T09:23:18.818809Z",
     "start_time": "2023-03-18T09:23:18.797750Z"
    }
   },
   "outputs": [
    {
     "data": {
      "text/html": [
       "<div>\n",
       "<style scoped>\n",
       "    .dataframe tbody tr th:only-of-type {\n",
       "        vertical-align: middle;\n",
       "    }\n",
       "\n",
       "    .dataframe tbody tr th {\n",
       "        vertical-align: top;\n",
       "    }\n",
       "\n",
       "    .dataframe thead th {\n",
       "        text-align: right;\n",
       "    }\n",
       "</style>\n",
       "<table border=\"1\" class=\"dataframe\">\n",
       "  <thead>\n",
       "    <tr style=\"text-align: right;\">\n",
       "      <th></th>\n",
       "      <th>Unit A</th>\n",
       "      <th>Unit B</th>\n",
       "    </tr>\n",
       "  </thead>\n",
       "  <tbody>\n",
       "    <tr>\n",
       "      <th>count</th>\n",
       "      <td>35.000000</td>\n",
       "      <td>35.000000</td>\n",
       "    </tr>\n",
       "    <tr>\n",
       "      <th>mean</th>\n",
       "      <td>7.019091</td>\n",
       "      <td>6.964297</td>\n",
       "    </tr>\n",
       "    <tr>\n",
       "      <th>std</th>\n",
       "      <td>0.288408</td>\n",
       "      <td>0.343401</td>\n",
       "    </tr>\n",
       "    <tr>\n",
       "      <th>min</th>\n",
       "      <td>6.437600</td>\n",
       "      <td>6.038000</td>\n",
       "    </tr>\n",
       "    <tr>\n",
       "      <th>25%</th>\n",
       "      <td>6.831500</td>\n",
       "      <td>6.753600</td>\n",
       "    </tr>\n",
       "    <tr>\n",
       "      <th>50%</th>\n",
       "      <td>6.943800</td>\n",
       "      <td>6.939900</td>\n",
       "    </tr>\n",
       "    <tr>\n",
       "      <th>75%</th>\n",
       "      <td>7.280550</td>\n",
       "      <td>7.195000</td>\n",
       "    </tr>\n",
       "    <tr>\n",
       "      <th>max</th>\n",
       "      <td>7.516900</td>\n",
       "      <td>7.545900</td>\n",
       "    </tr>\n",
       "  </tbody>\n",
       "</table>\n",
       "</div>"
      ],
      "text/plain": [
       "          Unit A     Unit B\n",
       "count  35.000000  35.000000\n",
       "mean    7.019091   6.964297\n",
       "std     0.288408   0.343401\n",
       "min     6.437600   6.038000\n",
       "25%     6.831500   6.753600\n",
       "50%     6.943800   6.939900\n",
       "75%     7.280550   7.195000\n",
       "max     7.516900   7.545900"
      ]
     },
     "execution_count": 14,
     "metadata": {},
     "output_type": "execute_result"
    }
   ],
   "source": [
    "df.describe()\n"
   ]
  },
  {
   "cell_type": "code",
   "execution_count": 15,
   "id": "fbe09679",
   "metadata": {
    "ExecuteTime": {
     "end_time": "2023-03-18T09:23:18.959948Z",
     "start_time": "2023-03-18T09:23:18.950525Z"
    }
   },
   "outputs": [],
   "source": [
    "Data1 = df['Unit A']"
   ]
  },
  {
   "cell_type": "code",
   "execution_count": 16,
   "id": "efd0be2d",
   "metadata": {
    "ExecuteTime": {
     "end_time": "2023-03-18T09:23:19.159275Z",
     "start_time": "2023-03-18T09:23:19.141363Z"
    }
   },
   "outputs": [],
   "source": [
    "Data2 = df['Unit B']"
   ]
  },
  {
   "cell_type": "code",
   "execution_count": null,
   "id": "7819cf0c",
   "metadata": {
    "ExecuteTime": {
     "end_time": "2022-12-17T09:10:43.021713Z",
     "start_time": "2022-12-17T09:10:42.992944Z"
    }
   },
   "outputs": [],
   "source": []
  },
  {
   "cell_type": "code",
   "execution_count": 17,
   "id": "9324afac",
   "metadata": {
    "ExecuteTime": {
     "end_time": "2023-03-18T09:23:19.530706Z",
     "start_time": "2023-03-18T09:23:19.525813Z"
    }
   },
   "outputs": [
    {
     "data": {
      "text/plain": [
       "0.2884084841815496"
      ]
     },
     "execution_count": 17,
     "metadata": {},
     "output_type": "execute_result"
    }
   ],
   "source": [
    "df['Unit A'].std()"
   ]
  },
  {
   "cell_type": "code",
   "execution_count": 18,
   "id": "89909768",
   "metadata": {
    "ExecuteTime": {
     "end_time": "2023-03-18T09:23:19.686321Z",
     "start_time": "2023-03-18T09:23:19.677326Z"
    }
   },
   "outputs": [
    {
     "data": {
      "text/plain": [
       "0.343400647063108"
      ]
     },
     "execution_count": 18,
     "metadata": {},
     "output_type": "execute_result"
    }
   ],
   "source": [
    "df['Unit B'].std()"
   ]
  },
  {
   "cell_type": "code",
   "execution_count": 19,
   "id": "3bb16e78",
   "metadata": {
    "ExecuteTime": {
     "end_time": "2023-03-18T09:23:20.120232Z",
     "start_time": "2023-03-18T09:23:20.097349Z"
    }
   },
   "outputs": [
    {
     "data": {
      "text/plain": [
       "0.16700417259004996"
      ]
     },
     "execution_count": 19,
     "metadata": {},
     "output_type": "execute_result"
    }
   ],
   "source": [
    "1-stats.t.cdf(0.98,34)"
   ]
  },
  {
   "cell_type": "code",
   "execution_count": 20,
   "id": "791b92bf",
   "metadata": {
    "ExecuteTime": {
     "end_time": "2023-03-18T09:23:20.645090Z",
     "start_time": "2023-03-18T09:23:20.633226Z"
    }
   },
   "outputs": [
    {
     "data": {
      "text/plain": [
       "0.08242797259022738"
      ]
     },
     "execution_count": 20,
     "metadata": {},
     "output_type": "execute_result"
    }
   ],
   "source": [
    "1-stats.t.cdf(1.41,49)"
   ]
  },
  {
   "cell_type": "code",
   "execution_count": 22,
   "id": "7424e2e0",
   "metadata": {
    "ExecuteTime": {
     "end_time": "2023-03-18T09:23:26.560320Z",
     "start_time": "2023-03-18T09:23:26.542833Z"
    }
   },
   "outputs": [],
   "source": [
    "import scipy"
   ]
  },
  {
   "cell_type": "code",
   "execution_count": 23,
   "id": "ba0a984d",
   "metadata": {
    "ExecuteTime": {
     "end_time": "2023-03-18T09:23:26.930866Z",
     "start_time": "2023-03-18T09:23:26.925378Z"
    }
   },
   "outputs": [
    {
     "data": {
      "text/plain": [
       "Ttest_indResult(statistic=0.7228688704678063, pvalue=0.4722394724599501)"
      ]
     },
     "execution_count": 23,
     "metadata": {},
     "output_type": "execute_result"
    }
   ],
   "source": [
    "stats.ttest_ind(Data1,Data2,equal_var=True)"
   ]
  },
  {
   "cell_type": "code",
   "execution_count": 24,
   "id": "bf07d96b",
   "metadata": {
    "ExecuteTime": {
     "end_time": "2023-03-18T09:23:27.275681Z",
     "start_time": "2023-03-18T09:23:27.269701Z"
    }
   },
   "outputs": [],
   "source": [
    "#hence we fail to reject null hypothesis and there is no significant differnce in diameter of boyh cutlets unit"
   ]
  },
  {
   "cell_type": "code",
   "execution_count": 25,
   "id": "32ecff3f",
   "metadata": {
    "ExecuteTime": {
     "end_time": "2023-03-18T09:23:27.617034Z",
     "start_time": "2023-03-18T09:23:27.613870Z"
    }
   },
   "outputs": [],
   "source": [
    "#Question2: LabTAT"
   ]
  },
  {
   "cell_type": "code",
   "execution_count": 26,
   "id": "6a4dbb13",
   "metadata": {
    "ExecuteTime": {
     "end_time": "2023-03-18T09:23:29.852500Z",
     "start_time": "2023-03-18T09:23:29.834681Z"
    }
   },
   "outputs": [],
   "source": [
    "#Null hyp: l1=l2=l3=l4\n",
    "#Alternate hyp: atleast one sample is dif"
   ]
  },
  {
   "cell_type": "code",
   "execution_count": 27,
   "id": "951834fa",
   "metadata": {
    "ExecuteTime": {
     "end_time": "2023-03-18T09:23:30.379558Z",
     "start_time": "2023-03-18T09:23:30.369976Z"
    }
   },
   "outputs": [],
   "source": [
    "import pandas as pd\n",
    "import numpy as np\n",
    "\n",
    "import scipy.stats as st"
   ]
  },
  {
   "cell_type": "code",
   "execution_count": 28,
   "id": "89095753",
   "metadata": {
    "ExecuteTime": {
     "end_time": "2023-03-18T09:23:31.078908Z",
     "start_time": "2023-03-18T09:23:31.058342Z"
    }
   },
   "outputs": [
    {
     "data": {
      "text/html": [
       "<div>\n",
       "<style scoped>\n",
       "    .dataframe tbody tr th:only-of-type {\n",
       "        vertical-align: middle;\n",
       "    }\n",
       "\n",
       "    .dataframe tbody tr th {\n",
       "        vertical-align: top;\n",
       "    }\n",
       "\n",
       "    .dataframe thead th {\n",
       "        text-align: right;\n",
       "    }\n",
       "</style>\n",
       "<table border=\"1\" class=\"dataframe\">\n",
       "  <thead>\n",
       "    <tr style=\"text-align: right;\">\n",
       "      <th></th>\n",
       "      <th>Laboratory 1</th>\n",
       "      <th>Laboratory 2</th>\n",
       "      <th>Laboratory 3</th>\n",
       "      <th>Laboratory 4</th>\n",
       "    </tr>\n",
       "  </thead>\n",
       "  <tbody>\n",
       "    <tr>\n",
       "      <th>0</th>\n",
       "      <td>185.35</td>\n",
       "      <td>165.53</td>\n",
       "      <td>176.70</td>\n",
       "      <td>166.13</td>\n",
       "    </tr>\n",
       "    <tr>\n",
       "      <th>1</th>\n",
       "      <td>170.49</td>\n",
       "      <td>185.91</td>\n",
       "      <td>198.45</td>\n",
       "      <td>160.79</td>\n",
       "    </tr>\n",
       "    <tr>\n",
       "      <th>2</th>\n",
       "      <td>192.77</td>\n",
       "      <td>194.92</td>\n",
       "      <td>201.23</td>\n",
       "      <td>185.18</td>\n",
       "    </tr>\n",
       "    <tr>\n",
       "      <th>3</th>\n",
       "      <td>177.33</td>\n",
       "      <td>183.00</td>\n",
       "      <td>199.61</td>\n",
       "      <td>176.42</td>\n",
       "    </tr>\n",
       "    <tr>\n",
       "      <th>4</th>\n",
       "      <td>193.41</td>\n",
       "      <td>169.57</td>\n",
       "      <td>204.63</td>\n",
       "      <td>152.60</td>\n",
       "    </tr>\n",
       "  </tbody>\n",
       "</table>\n",
       "</div>"
      ],
      "text/plain": [
       "   Laboratory 1  Laboratory 2  Laboratory 3  Laboratory 4\n",
       "0        185.35        165.53        176.70        166.13\n",
       "1        170.49        185.91        198.45        160.79\n",
       "2        192.77        194.92        201.23        185.18\n",
       "3        177.33        183.00        199.61        176.42\n",
       "4        193.41        169.57        204.63        152.60"
      ]
     },
     "execution_count": 28,
     "metadata": {},
     "output_type": "execute_result"
    }
   ],
   "source": [
    "file = pd.read_csv(\"LabTAT (1).csv\")\n",
    "file.head()"
   ]
  },
  {
   "cell_type": "code",
   "execution_count": 29,
   "id": "33b082d2",
   "metadata": {
    "ExecuteTime": {
     "end_time": "2023-03-18T09:23:31.573069Z",
     "start_time": "2023-03-18T09:23:31.555962Z"
    }
   },
   "outputs": [
    {
     "data": {
      "text/html": [
       "<div>\n",
       "<style scoped>\n",
       "    .dataframe tbody tr th:only-of-type {\n",
       "        vertical-align: middle;\n",
       "    }\n",
       "\n",
       "    .dataframe tbody tr th {\n",
       "        vertical-align: top;\n",
       "    }\n",
       "\n",
       "    .dataframe thead th {\n",
       "        text-align: right;\n",
       "    }\n",
       "</style>\n",
       "<table border=\"1\" class=\"dataframe\">\n",
       "  <thead>\n",
       "    <tr style=\"text-align: right;\">\n",
       "      <th></th>\n",
       "      <th>Laboratory 1</th>\n",
       "      <th>Laboratory 2</th>\n",
       "      <th>Laboratory 3</th>\n",
       "      <th>Laboratory 4</th>\n",
       "    </tr>\n",
       "  </thead>\n",
       "  <tbody>\n",
       "    <tr>\n",
       "      <th>count</th>\n",
       "      <td>120.000000</td>\n",
       "      <td>120.000000</td>\n",
       "      <td>120.000000</td>\n",
       "      <td>120.00000</td>\n",
       "    </tr>\n",
       "    <tr>\n",
       "      <th>mean</th>\n",
       "      <td>178.361583</td>\n",
       "      <td>178.902917</td>\n",
       "      <td>199.913250</td>\n",
       "      <td>163.68275</td>\n",
       "    </tr>\n",
       "    <tr>\n",
       "      <th>std</th>\n",
       "      <td>13.173594</td>\n",
       "      <td>14.957114</td>\n",
       "      <td>16.539033</td>\n",
       "      <td>15.08508</td>\n",
       "    </tr>\n",
       "    <tr>\n",
       "      <th>min</th>\n",
       "      <td>138.300000</td>\n",
       "      <td>140.550000</td>\n",
       "      <td>159.690000</td>\n",
       "      <td>124.06000</td>\n",
       "    </tr>\n",
       "    <tr>\n",
       "      <th>25%</th>\n",
       "      <td>170.335000</td>\n",
       "      <td>168.025000</td>\n",
       "      <td>188.232500</td>\n",
       "      <td>154.05000</td>\n",
       "    </tr>\n",
       "    <tr>\n",
       "      <th>50%</th>\n",
       "      <td>178.530000</td>\n",
       "      <td>178.870000</td>\n",
       "      <td>199.805000</td>\n",
       "      <td>164.42500</td>\n",
       "    </tr>\n",
       "    <tr>\n",
       "      <th>75%</th>\n",
       "      <td>186.535000</td>\n",
       "      <td>189.112500</td>\n",
       "      <td>211.332500</td>\n",
       "      <td>172.88250</td>\n",
       "    </tr>\n",
       "    <tr>\n",
       "      <th>max</th>\n",
       "      <td>216.390000</td>\n",
       "      <td>217.860000</td>\n",
       "      <td>238.700000</td>\n",
       "      <td>205.18000</td>\n",
       "    </tr>\n",
       "  </tbody>\n",
       "</table>\n",
       "</div>"
      ],
      "text/plain": [
       "       Laboratory 1  Laboratory 2  Laboratory 3  Laboratory 4\n",
       "count    120.000000    120.000000    120.000000     120.00000\n",
       "mean     178.361583    178.902917    199.913250     163.68275\n",
       "std       13.173594     14.957114     16.539033      15.08508\n",
       "min      138.300000    140.550000    159.690000     124.06000\n",
       "25%      170.335000    168.025000    188.232500     154.05000\n",
       "50%      178.530000    178.870000    199.805000     164.42500\n",
       "75%      186.535000    189.112500    211.332500     172.88250\n",
       "max      216.390000    217.860000    238.700000     205.18000"
      ]
     },
     "execution_count": 29,
     "metadata": {},
     "output_type": "execute_result"
    }
   ],
   "source": [
    "file.describe()"
   ]
  },
  {
   "cell_type": "code",
   "execution_count": 31,
   "id": "24fecb70",
   "metadata": {
    "ExecuteTime": {
     "end_time": "2023-03-18T09:23:38.161357Z",
     "start_time": "2023-03-18T09:23:38.145171Z"
    }
   },
   "outputs": [
    {
     "data": {
      "text/plain": [
       "F_onewayResult(statistic=118.70421654401437, pvalue=2.1156708949992414e-57)"
      ]
     },
     "execution_count": 31,
     "metadata": {},
     "output_type": "execute_result"
    }
   ],
   "source": [
    "st.f_oneway(file.iloc[:,0],file.iloc[:,1],file.iloc[:,2],file.iloc[:,3])"
   ]
  },
  {
   "cell_type": "code",
   "execution_count": 32,
   "id": "8be17149",
   "metadata": {
    "ExecuteTime": {
     "end_time": "2023-03-18T09:23:38.952228Z",
     "start_time": "2023-03-18T09:23:38.948121Z"
    }
   },
   "outputs": [],
   "source": [
    "#p value is less than alpha hence reject the null hypothesis\n",
    "\n",
    "\n",
    "#there is one sample which has difference in TAT"
   ]
  },
  {
   "cell_type": "code",
   "execution_count": 33,
   "id": "4a247313",
   "metadata": {
    "ExecuteTime": {
     "end_time": "2023-03-18T10:16:08.621429Z",
     "start_time": "2023-03-18T10:16:08.614449Z"
    }
   },
   "outputs": [],
   "source": [
    "#question3: Buyer's Ratio\n",
    "\n",
    "#"
   ]
  },
  {
   "cell_type": "code",
   "execution_count": 35,
   "id": "ca6277f8",
   "metadata": {
    "ExecuteTime": {
     "end_time": "2023-03-18T10:17:04.472213Z",
     "start_time": "2023-03-18T10:17:04.460029Z"
    }
   },
   "outputs": [
    {
     "data": {
      "text/html": [
       "<div>\n",
       "<style scoped>\n",
       "    .dataframe tbody tr th:only-of-type {\n",
       "        vertical-align: middle;\n",
       "    }\n",
       "\n",
       "    .dataframe tbody tr th {\n",
       "        vertical-align: top;\n",
       "    }\n",
       "\n",
       "    .dataframe thead th {\n",
       "        text-align: right;\n",
       "    }\n",
       "</style>\n",
       "<table border=\"1\" class=\"dataframe\">\n",
       "  <thead>\n",
       "    <tr style=\"text-align: right;\">\n",
       "      <th></th>\n",
       "      <th>Observed Values</th>\n",
       "      <th>East</th>\n",
       "      <th>West</th>\n",
       "      <th>North</th>\n",
       "      <th>South</th>\n",
       "    </tr>\n",
       "  </thead>\n",
       "  <tbody>\n",
       "    <tr>\n",
       "      <th>0</th>\n",
       "      <td>Males</td>\n",
       "      <td>50</td>\n",
       "      <td>142</td>\n",
       "      <td>131</td>\n",
       "      <td>70</td>\n",
       "    </tr>\n",
       "    <tr>\n",
       "      <th>1</th>\n",
       "      <td>Females</td>\n",
       "      <td>435</td>\n",
       "      <td>1523</td>\n",
       "      <td>1356</td>\n",
       "      <td>750</td>\n",
       "    </tr>\n",
       "  </tbody>\n",
       "</table>\n",
       "</div>"
      ],
      "text/plain": [
       "  Observed Values  East  West  North  South\n",
       "0           Males    50   142    131     70\n",
       "1         Females   435  1523   1356    750"
      ]
     },
     "execution_count": 35,
     "metadata": {},
     "output_type": "execute_result"
    }
   ],
   "source": [
    "file1 = pd.read_csv('BuyerRatio.csv')\n",
    "file1.head()"
   ]
  },
  {
   "cell_type": "code",
   "execution_count": 39,
   "id": "4c83e411",
   "metadata": {
    "ExecuteTime": {
     "end_time": "2023-03-18T10:19:25.826829Z",
     "start_time": "2023-03-18T10:19:25.809661Z"
    }
   },
   "outputs": [
    {
     "data": {
      "text/plain": [
       "Males      1\n",
       "Females    1\n",
       "Name: Observed Values, dtype: int64"
      ]
     },
     "execution_count": 39,
     "metadata": {},
     "output_type": "execute_result"
    }
   ],
   "source": [
    "file1['Observed Values'].value_counts()"
   ]
  },
  {
   "cell_type": "code",
   "execution_count": 40,
   "id": "979d2a33",
   "metadata": {
    "ExecuteTime": {
     "end_time": "2023-03-18T10:20:47.819816Z",
     "start_time": "2023-03-18T10:20:47.785949Z"
    }
   },
   "outputs": [
    {
     "data": {
      "text/html": [
       "<div>\n",
       "<style scoped>\n",
       "    .dataframe tbody tr th:only-of-type {\n",
       "        vertical-align: middle;\n",
       "    }\n",
       "\n",
       "    .dataframe tbody tr th {\n",
       "        vertical-align: top;\n",
       "    }\n",
       "\n",
       "    .dataframe thead th {\n",
       "        text-align: right;\n",
       "    }\n",
       "</style>\n",
       "<table border=\"1\" class=\"dataframe\">\n",
       "  <thead>\n",
       "    <tr style=\"text-align: right;\">\n",
       "      <th></th>\n",
       "      <th>East</th>\n",
       "      <th>West</th>\n",
       "      <th>North</th>\n",
       "      <th>South</th>\n",
       "    </tr>\n",
       "  </thead>\n",
       "  <tbody>\n",
       "    <tr>\n",
       "      <th>count</th>\n",
       "      <td>2.000000</td>\n",
       "      <td>2.000000</td>\n",
       "      <td>2.000000</td>\n",
       "      <td>2.000000</td>\n",
       "    </tr>\n",
       "    <tr>\n",
       "      <th>mean</th>\n",
       "      <td>242.500000</td>\n",
       "      <td>832.500000</td>\n",
       "      <td>743.500000</td>\n",
       "      <td>410.000000</td>\n",
       "    </tr>\n",
       "    <tr>\n",
       "      <th>std</th>\n",
       "      <td>272.236111</td>\n",
       "      <td>976.514465</td>\n",
       "      <td>866.205807</td>\n",
       "      <td>480.832611</td>\n",
       "    </tr>\n",
       "    <tr>\n",
       "      <th>min</th>\n",
       "      <td>50.000000</td>\n",
       "      <td>142.000000</td>\n",
       "      <td>131.000000</td>\n",
       "      <td>70.000000</td>\n",
       "    </tr>\n",
       "    <tr>\n",
       "      <th>25%</th>\n",
       "      <td>146.250000</td>\n",
       "      <td>487.250000</td>\n",
       "      <td>437.250000</td>\n",
       "      <td>240.000000</td>\n",
       "    </tr>\n",
       "    <tr>\n",
       "      <th>50%</th>\n",
       "      <td>242.500000</td>\n",
       "      <td>832.500000</td>\n",
       "      <td>743.500000</td>\n",
       "      <td>410.000000</td>\n",
       "    </tr>\n",
       "    <tr>\n",
       "      <th>75%</th>\n",
       "      <td>338.750000</td>\n",
       "      <td>1177.750000</td>\n",
       "      <td>1049.750000</td>\n",
       "      <td>580.000000</td>\n",
       "    </tr>\n",
       "    <tr>\n",
       "      <th>max</th>\n",
       "      <td>435.000000</td>\n",
       "      <td>1523.000000</td>\n",
       "      <td>1356.000000</td>\n",
       "      <td>750.000000</td>\n",
       "    </tr>\n",
       "  </tbody>\n",
       "</table>\n",
       "</div>"
      ],
      "text/plain": [
       "             East         West        North       South\n",
       "count    2.000000     2.000000     2.000000    2.000000\n",
       "mean   242.500000   832.500000   743.500000  410.000000\n",
       "std    272.236111   976.514465   866.205807  480.832611\n",
       "min     50.000000   142.000000   131.000000   70.000000\n",
       "25%    146.250000   487.250000   437.250000  240.000000\n",
       "50%    242.500000   832.500000   743.500000  410.000000\n",
       "75%    338.750000  1177.750000  1049.750000  580.000000\n",
       "max    435.000000  1523.000000  1356.000000  750.000000"
      ]
     },
     "execution_count": 40,
     "metadata": {},
     "output_type": "execute_result"
    }
   ],
   "source": [
    "file1.describe()"
   ]
  },
  {
   "cell_type": "code",
   "execution_count": 43,
   "id": "e8b66d64",
   "metadata": {
    "ExecuteTime": {
     "end_time": "2023-03-18T10:23:07.690888Z",
     "start_time": "2023-03-18T10:23:07.662155Z"
    }
   },
   "outputs": [
    {
     "data": {
      "text/plain": [
       "F_onewayResult(statistic=0.3068565327605033, pvalue=0.8204060154887464)"
      ]
     },
     "execution_count": 43,
     "metadata": {},
     "output_type": "execute_result"
    }
   ],
   "source": [
    "st.f_oneway(file1.iloc[:,1],file1.iloc[:,2],file1.iloc[:,3],file1.iloc[:,4])"
   ]
  },
  {
   "cell_type": "code",
   "execution_count": null,
   "id": "41f364cd",
   "metadata": {},
   "outputs": [],
   "source": []
  },
  {
   "cell_type": "code",
   "execution_count": 44,
   "id": "4cca0249",
   "metadata": {
    "ExecuteTime": {
     "end_time": "2023-03-18T10:47:50.094702Z",
     "start_time": "2023-03-18T10:47:50.080749Z"
    }
   },
   "outputs": [],
   "source": [
    "#question4: Customer order form\n",
    "\n",
    "#"
   ]
  },
  {
   "cell_type": "code",
   "execution_count": 46,
   "id": "55a15641",
   "metadata": {
    "ExecuteTime": {
     "end_time": "2023-03-18T10:48:40.179258Z",
     "start_time": "2023-03-18T10:48:40.166356Z"
    }
   },
   "outputs": [
    {
     "data": {
      "text/html": [
       "<div>\n",
       "<style scoped>\n",
       "    .dataframe tbody tr th:only-of-type {\n",
       "        vertical-align: middle;\n",
       "    }\n",
       "\n",
       "    .dataframe tbody tr th {\n",
       "        vertical-align: top;\n",
       "    }\n",
       "\n",
       "    .dataframe thead th {\n",
       "        text-align: right;\n",
       "    }\n",
       "</style>\n",
       "<table border=\"1\" class=\"dataframe\">\n",
       "  <thead>\n",
       "    <tr style=\"text-align: right;\">\n",
       "      <th></th>\n",
       "      <th>Phillippines</th>\n",
       "      <th>Indonesia</th>\n",
       "      <th>Malta</th>\n",
       "      <th>India</th>\n",
       "    </tr>\n",
       "  </thead>\n",
       "  <tbody>\n",
       "    <tr>\n",
       "      <th>0</th>\n",
       "      <td>Error Free</td>\n",
       "      <td>Error Free</td>\n",
       "      <td>Defective</td>\n",
       "      <td>Error Free</td>\n",
       "    </tr>\n",
       "    <tr>\n",
       "      <th>1</th>\n",
       "      <td>Error Free</td>\n",
       "      <td>Error Free</td>\n",
       "      <td>Error Free</td>\n",
       "      <td>Defective</td>\n",
       "    </tr>\n",
       "    <tr>\n",
       "      <th>2</th>\n",
       "      <td>Error Free</td>\n",
       "      <td>Defective</td>\n",
       "      <td>Defective</td>\n",
       "      <td>Error Free</td>\n",
       "    </tr>\n",
       "    <tr>\n",
       "      <th>3</th>\n",
       "      <td>Error Free</td>\n",
       "      <td>Error Free</td>\n",
       "      <td>Error Free</td>\n",
       "      <td>Error Free</td>\n",
       "    </tr>\n",
       "    <tr>\n",
       "      <th>4</th>\n",
       "      <td>Error Free</td>\n",
       "      <td>Error Free</td>\n",
       "      <td>Defective</td>\n",
       "      <td>Error Free</td>\n",
       "    </tr>\n",
       "  </tbody>\n",
       "</table>\n",
       "</div>"
      ],
      "text/plain": [
       "  Phillippines   Indonesia       Malta       India\n",
       "0   Error Free  Error Free   Defective  Error Free\n",
       "1   Error Free  Error Free  Error Free   Defective\n",
       "2   Error Free   Defective   Defective  Error Free\n",
       "3   Error Free  Error Free  Error Free  Error Free\n",
       "4   Error Free  Error Free   Defective  Error Free"
      ]
     },
     "execution_count": 46,
     "metadata": {},
     "output_type": "execute_result"
    }
   ],
   "source": [
    "file2 =pd.read_csv('Costomer+OrderForm (2).csv')\n",
    "file2.head()"
   ]
  },
  {
   "cell_type": "code",
   "execution_count": 47,
   "id": "d7ac2432",
   "metadata": {
    "ExecuteTime": {
     "end_time": "2023-03-18T10:51:15.194404Z",
     "start_time": "2023-03-18T10:51:15.171288Z"
    }
   },
   "outputs": [
    {
     "data": {
      "text/html": [
       "<div>\n",
       "<style scoped>\n",
       "    .dataframe tbody tr th:only-of-type {\n",
       "        vertical-align: middle;\n",
       "    }\n",
       "\n",
       "    .dataframe tbody tr th {\n",
       "        vertical-align: top;\n",
       "    }\n",
       "\n",
       "    .dataframe thead th {\n",
       "        text-align: right;\n",
       "    }\n",
       "</style>\n",
       "<table border=\"1\" class=\"dataframe\">\n",
       "  <thead>\n",
       "    <tr style=\"text-align: right;\">\n",
       "      <th></th>\n",
       "      <th>Phillippines</th>\n",
       "      <th>Indonesia</th>\n",
       "      <th>Malta</th>\n",
       "      <th>India</th>\n",
       "    </tr>\n",
       "  </thead>\n",
       "  <tbody>\n",
       "    <tr>\n",
       "      <th>count</th>\n",
       "      <td>300</td>\n",
       "      <td>300</td>\n",
       "      <td>300</td>\n",
       "      <td>300</td>\n",
       "    </tr>\n",
       "    <tr>\n",
       "      <th>unique</th>\n",
       "      <td>2</td>\n",
       "      <td>2</td>\n",
       "      <td>2</td>\n",
       "      <td>2</td>\n",
       "    </tr>\n",
       "    <tr>\n",
       "      <th>top</th>\n",
       "      <td>Error Free</td>\n",
       "      <td>Error Free</td>\n",
       "      <td>Error Free</td>\n",
       "      <td>Error Free</td>\n",
       "    </tr>\n",
       "    <tr>\n",
       "      <th>freq</th>\n",
       "      <td>271</td>\n",
       "      <td>267</td>\n",
       "      <td>269</td>\n",
       "      <td>280</td>\n",
       "    </tr>\n",
       "  </tbody>\n",
       "</table>\n",
       "</div>"
      ],
      "text/plain": [
       "       Phillippines   Indonesia       Malta       India\n",
       "count           300         300         300         300\n",
       "unique            2           2           2           2\n",
       "top      Error Free  Error Free  Error Free  Error Free\n",
       "freq            271         267         269         280"
      ]
     },
     "execution_count": 47,
     "metadata": {},
     "output_type": "execute_result"
    }
   ],
   "source": [
    "file2.describe()"
   ]
  },
  {
   "cell_type": "code",
   "execution_count": null,
   "id": "89f3f0cb",
   "metadata": {
    "ExecuteTime": {
     "end_time": "2023-03-18T10:57:24.196953Z",
     "start_time": "2023-03-18T10:57:24.176446Z"
    }
   },
   "outputs": [],
   "source": []
  },
  {
   "cell_type": "code",
   "execution_count": 55,
   "id": "d58b4544",
   "metadata": {
    "ExecuteTime": {
     "end_time": "2023-03-18T11:16:16.173405Z",
     "start_time": "2023-03-18T11:16:16.152406Z"
    }
   },
   "outputs": [
    {
     "data": {
      "text/plain": [
       "Error Free    271\n",
       "Defective      29\n",
       "Name: Phillippines, dtype: int64"
      ]
     },
     "execution_count": 55,
     "metadata": {},
     "output_type": "execute_result"
    }
   ],
   "source": [
    "file2['Phillippines'].value_counts()"
   ]
  },
  {
   "cell_type": "code",
   "execution_count": 56,
   "id": "24ba3466",
   "metadata": {
    "ExecuteTime": {
     "end_time": "2023-03-18T11:16:17.091830Z",
     "start_time": "2023-03-18T11:16:17.069914Z"
    }
   },
   "outputs": [
    {
     "data": {
      "text/plain": [
       "Error Free    267\n",
       "Defective      33\n",
       "Name: Indonesia, dtype: int64"
      ]
     },
     "execution_count": 56,
     "metadata": {},
     "output_type": "execute_result"
    }
   ],
   "source": [
    "file2['Indonesia'].value_counts()"
   ]
  },
  {
   "cell_type": "code",
   "execution_count": 57,
   "id": "df554881",
   "metadata": {
    "ExecuteTime": {
     "end_time": "2023-03-18T11:16:17.776389Z",
     "start_time": "2023-03-18T11:16:17.755149Z"
    }
   },
   "outputs": [
    {
     "data": {
      "text/plain": [
       "Error Free    269\n",
       "Defective      31\n",
       "Name: Malta, dtype: int64"
      ]
     },
     "execution_count": 57,
     "metadata": {},
     "output_type": "execute_result"
    }
   ],
   "source": [
    "file2['Malta'].value_counts()"
   ]
  },
  {
   "cell_type": "code",
   "execution_count": 58,
   "id": "50b414c2",
   "metadata": {
    "ExecuteTime": {
     "end_time": "2023-03-18T11:18:00.383845Z",
     "start_time": "2023-03-18T11:18:00.360844Z"
    }
   },
   "outputs": [
    {
     "data": {
      "text/plain": [
       "Error Free    280\n",
       "Defective      20\n",
       "Name: India, dtype: int64"
      ]
     },
     "execution_count": 58,
     "metadata": {},
     "output_type": "execute_result"
    }
   ],
   "source": [
    "file2['India'].value_counts()"
   ]
  },
  {
   "cell_type": "code",
   "execution_count": 59,
   "id": "9addf357",
   "metadata": {
    "ExecuteTime": {
     "end_time": "2023-03-18T11:18:39.911852Z",
     "start_time": "2023-03-18T11:18:39.892025Z"
    }
   },
   "outputs": [],
   "source": [
    "alpha = np.array([[271,267,269,280],[29,33,31,20]])"
   ]
  },
  {
   "cell_type": "code",
   "execution_count": 60,
   "id": "8ccb2a1d",
   "metadata": {
    "ExecuteTime": {
     "end_time": "2023-03-18T11:18:44.072154Z",
     "start_time": "2023-03-18T11:18:44.009682Z"
    }
   },
   "outputs": [
    {
     "data": {
      "text/plain": [
       "array([[271, 267, 269, 280],\n",
       "       [ 29,  33,  31,  20]])"
      ]
     },
     "execution_count": 60,
     "metadata": {},
     "output_type": "execute_result"
    }
   ],
   "source": [
    "alpha"
   ]
  },
  {
   "cell_type": "code",
   "execution_count": 61,
   "id": "97e1e9c7",
   "metadata": {
    "ExecuteTime": {
     "end_time": "2023-03-18T11:18:57.987194Z",
     "start_time": "2023-03-18T11:18:57.970089Z"
    }
   },
   "outputs": [],
   "source": [
    "#chi test"
   ]
  },
  {
   "cell_type": "code",
   "execution_count": 62,
   "id": "a4efd896",
   "metadata": {
    "ExecuteTime": {
     "end_time": "2023-03-18T11:19:29.200492Z",
     "start_time": "2023-03-18T11:19:29.144828Z"
    }
   },
   "outputs": [],
   "source": [
    "stat, p , dof, expected = stats.chi2_contingency(alpha)"
   ]
  },
  {
   "cell_type": "code",
   "execution_count": 65,
   "id": "945b87bb",
   "metadata": {
    "ExecuteTime": {
     "end_time": "2023-03-18T11:21:21.937780Z",
     "start_time": "2023-03-18T11:21:21.927360Z"
    }
   },
   "outputs": [
    {
     "data": {
      "text/plain": [
       "3.858960685820355"
      ]
     },
     "execution_count": 65,
     "metadata": {},
     "output_type": "execute_result"
    }
   ],
   "source": [
    "stat\n"
   ]
  },
  {
   "cell_type": "code",
   "execution_count": 66,
   "id": "2784c971",
   "metadata": {
    "ExecuteTime": {
     "end_time": "2023-03-18T11:21:26.142278Z",
     "start_time": "2023-03-18T11:21:26.124060Z"
    }
   },
   "outputs": [
    {
     "data": {
      "text/plain": [
       "0.2771020991233135"
      ]
     },
     "execution_count": 66,
     "metadata": {},
     "output_type": "execute_result"
    }
   ],
   "source": [
    "p"
   ]
  },
  {
   "cell_type": "code",
   "execution_count": 67,
   "id": "50ec2f01",
   "metadata": {
    "ExecuteTime": {
     "end_time": "2023-03-18T11:21:29.528846Z",
     "start_time": "2023-03-18T11:21:29.518550Z"
    }
   },
   "outputs": [
    {
     "data": {
      "text/plain": [
       "3"
      ]
     },
     "execution_count": 67,
     "metadata": {},
     "output_type": "execute_result"
    }
   ],
   "source": [
    "dof"
   ]
  },
  {
   "cell_type": "code",
   "execution_count": 68,
   "id": "ed2751a8",
   "metadata": {
    "ExecuteTime": {
     "end_time": "2023-03-18T11:21:39.478577Z",
     "start_time": "2023-03-18T11:21:39.460835Z"
    }
   },
   "outputs": [
    {
     "data": {
      "text/plain": [
       "array([[271.75, 271.75, 271.75, 271.75],\n",
       "       [ 28.25,  28.25,  28.25,  28.25]])"
      ]
     },
     "execution_count": 68,
     "metadata": {},
     "output_type": "execute_result"
    }
   ],
   "source": [
    "expected"
   ]
  },
  {
   "cell_type": "code",
   "execution_count": null,
   "id": "1e0f23ce",
   "metadata": {},
   "outputs": [],
   "source": []
  }
 ],
 "metadata": {
  "kernelspec": {
   "display_name": "Python 3 (ipykernel)",
   "language": "python",
   "name": "python3"
  },
  "language_info": {
   "codemirror_mode": {
    "name": "ipython",
    "version": 3
   },
   "file_extension": ".py",
   "mimetype": "text/x-python",
   "name": "python",
   "nbconvert_exporter": "python",
   "pygments_lexer": "ipython3",
   "version": "3.9.13"
  }
 },
 "nbformat": 4,
 "nbformat_minor": 5
}
